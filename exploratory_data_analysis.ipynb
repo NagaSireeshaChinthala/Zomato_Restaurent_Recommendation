{
 "cells": [
  {
   "cell_type": "code",
   "execution_count": 12,
   "metadata": {},
   "outputs": [],
   "source": [
    "import pandas as pd\n",
    "import matplotlib.pyplot as plt\n",
    "import warnings\n",
    "import seaborn as sns\n",
    "import numpy as np\n",
    "sns.set(color_codes = True)\n",
    "%matplotlib inline\n",
    "warnings.filterwarnings('ignore')"
   ]
  },
  {
   "cell_type": "code",
   "execution_count": 32,
   "metadata": {},
   "outputs": [
    {
     "data": {
      "text/html": [
       "<div>\n",
       "<style scoped>\n",
       "    .dataframe tbody tr th:only-of-type {\n",
       "        vertical-align: middle;\n",
       "    }\n",
       "\n",
       "    .dataframe tbody tr th {\n",
       "        vertical-align: top;\n",
       "    }\n",
       "\n",
       "    .dataframe thead th {\n",
       "        text-align: right;\n",
       "    }\n",
       "</style>\n",
       "<table border=\"1\" class=\"dataframe\">\n",
       "  <thead>\n",
       "    <tr style=\"text-align: right;\">\n",
       "      <th></th>\n",
       "      <th>url</th>\n",
       "      <th>address</th>\n",
       "      <th>name</th>\n",
       "      <th>online_order</th>\n",
       "      <th>book_table</th>\n",
       "      <th>rate</th>\n",
       "      <th>votes</th>\n",
       "      <th>phone</th>\n",
       "      <th>location</th>\n",
       "      <th>rest_type</th>\n",
       "      <th>dish_liked</th>\n",
       "      <th>cuisines</th>\n",
       "      <th>approx_cost(for two people)</th>\n",
       "      <th>reviews_list</th>\n",
       "      <th>menu_item</th>\n",
       "      <th>listed_in(type)</th>\n",
       "      <th>listed_in(city)</th>\n",
       "    </tr>\n",
       "  </thead>\n",
       "  <tbody>\n",
       "    <tr>\n",
       "      <th>0</th>\n",
       "      <td>https://www.zomato.com/bangalore/jalsa-banasha...</td>\n",
       "      <td>942, 21st Main Road, 2nd Stage, Banashankari, ...</td>\n",
       "      <td>Jalsa</td>\n",
       "      <td>Yes</td>\n",
       "      <td>Yes</td>\n",
       "      <td>4.1/5</td>\n",
       "      <td>775</td>\n",
       "      <td>080 42297555\\r\\n+91 9743772233</td>\n",
       "      <td>Banashankari</td>\n",
       "      <td>Casual Dining</td>\n",
       "      <td>Pasta, Lunch Buffet, Masala Papad, Paneer Laja...</td>\n",
       "      <td>North Indian, Mughlai, Chinese</td>\n",
       "      <td>800</td>\n",
       "      <td>[('Rated 4.0', 'RATED\\n  A beautiful place to ...</td>\n",
       "      <td>[]</td>\n",
       "      <td>Buffet</td>\n",
       "      <td>Banashankari</td>\n",
       "    </tr>\n",
       "    <tr>\n",
       "      <th>1</th>\n",
       "      <td>https://www.zomato.com/bangalore/spice-elephan...</td>\n",
       "      <td>2nd Floor, 80 Feet Road, Near Big Bazaar, 6th ...</td>\n",
       "      <td>Spice Elephant</td>\n",
       "      <td>Yes</td>\n",
       "      <td>No</td>\n",
       "      <td>4.1/5</td>\n",
       "      <td>787</td>\n",
       "      <td>080 41714161</td>\n",
       "      <td>Banashankari</td>\n",
       "      <td>Casual Dining</td>\n",
       "      <td>Momos, Lunch Buffet, Chocolate Nirvana, Thai G...</td>\n",
       "      <td>Chinese, North Indian, Thai</td>\n",
       "      <td>800</td>\n",
       "      <td>[('Rated 4.0', 'RATED\\n  Had been here for din...</td>\n",
       "      <td>[]</td>\n",
       "      <td>Buffet</td>\n",
       "      <td>Banashankari</td>\n",
       "    </tr>\n",
       "    <tr>\n",
       "      <th>2</th>\n",
       "      <td>https://www.zomato.com/SanchurroBangalore?cont...</td>\n",
       "      <td>1112, Next to KIMS Medical College, 17th Cross...</td>\n",
       "      <td>San Churro Cafe</td>\n",
       "      <td>Yes</td>\n",
       "      <td>No</td>\n",
       "      <td>3.8/5</td>\n",
       "      <td>918</td>\n",
       "      <td>+91 9663487993</td>\n",
       "      <td>Banashankari</td>\n",
       "      <td>Cafe, Casual Dining</td>\n",
       "      <td>Churros, Cannelloni, Minestrone Soup, Hot Choc...</td>\n",
       "      <td>Cafe, Mexican, Italian</td>\n",
       "      <td>800</td>\n",
       "      <td>[('Rated 3.0', \"RATED\\n  Ambience is not that ...</td>\n",
       "      <td>[]</td>\n",
       "      <td>Buffet</td>\n",
       "      <td>Banashankari</td>\n",
       "    </tr>\n",
       "    <tr>\n",
       "      <th>3</th>\n",
       "      <td>https://www.zomato.com/bangalore/addhuri-udupi...</td>\n",
       "      <td>1st Floor, Annakuteera, 3rd Stage, Banashankar...</td>\n",
       "      <td>Addhuri Udupi Bhojana</td>\n",
       "      <td>No</td>\n",
       "      <td>No</td>\n",
       "      <td>3.7/5</td>\n",
       "      <td>88</td>\n",
       "      <td>+91 9620009302</td>\n",
       "      <td>Banashankari</td>\n",
       "      <td>Quick Bites</td>\n",
       "      <td>Masala Dosa</td>\n",
       "      <td>South Indian, North Indian</td>\n",
       "      <td>300</td>\n",
       "      <td>[('Rated 4.0', \"RATED\\n  Great food and proper...</td>\n",
       "      <td>[]</td>\n",
       "      <td>Buffet</td>\n",
       "      <td>Banashankari</td>\n",
       "    </tr>\n",
       "    <tr>\n",
       "      <th>4</th>\n",
       "      <td>https://www.zomato.com/bangalore/grand-village...</td>\n",
       "      <td>10, 3rd Floor, Lakshmi Associates, Gandhi Baza...</td>\n",
       "      <td>Grand Village</td>\n",
       "      <td>No</td>\n",
       "      <td>No</td>\n",
       "      <td>3.8/5</td>\n",
       "      <td>166</td>\n",
       "      <td>+91 8026612447\\r\\n+91 9901210005</td>\n",
       "      <td>Basavanagudi</td>\n",
       "      <td>Casual Dining</td>\n",
       "      <td>Panipuri, Gol Gappe</td>\n",
       "      <td>North Indian, Rajasthani</td>\n",
       "      <td>600</td>\n",
       "      <td>[('Rated 4.0', 'RATED\\n  Very good restaurant ...</td>\n",
       "      <td>[]</td>\n",
       "      <td>Buffet</td>\n",
       "      <td>Banashankari</td>\n",
       "    </tr>\n",
       "  </tbody>\n",
       "</table>\n",
       "</div>"
      ],
      "text/plain": [
       "                                                 url  \\\n",
       "0  https://www.zomato.com/bangalore/jalsa-banasha...   \n",
       "1  https://www.zomato.com/bangalore/spice-elephan...   \n",
       "2  https://www.zomato.com/SanchurroBangalore?cont...   \n",
       "3  https://www.zomato.com/bangalore/addhuri-udupi...   \n",
       "4  https://www.zomato.com/bangalore/grand-village...   \n",
       "\n",
       "                                             address                   name  \\\n",
       "0  942, 21st Main Road, 2nd Stage, Banashankari, ...                  Jalsa   \n",
       "1  2nd Floor, 80 Feet Road, Near Big Bazaar, 6th ...         Spice Elephant   \n",
       "2  1112, Next to KIMS Medical College, 17th Cross...        San Churro Cafe   \n",
       "3  1st Floor, Annakuteera, 3rd Stage, Banashankar...  Addhuri Udupi Bhojana   \n",
       "4  10, 3rd Floor, Lakshmi Associates, Gandhi Baza...          Grand Village   \n",
       "\n",
       "  online_order book_table   rate  votes                             phone  \\\n",
       "0          Yes        Yes  4.1/5    775    080 42297555\\r\\n+91 9743772233   \n",
       "1          Yes         No  4.1/5    787                      080 41714161   \n",
       "2          Yes         No  3.8/5    918                    +91 9663487993   \n",
       "3           No         No  3.7/5     88                    +91 9620009302   \n",
       "4           No         No  3.8/5    166  +91 8026612447\\r\\n+91 9901210005   \n",
       "\n",
       "       location            rest_type  \\\n",
       "0  Banashankari        Casual Dining   \n",
       "1  Banashankari        Casual Dining   \n",
       "2  Banashankari  Cafe, Casual Dining   \n",
       "3  Banashankari          Quick Bites   \n",
       "4  Basavanagudi        Casual Dining   \n",
       "\n",
       "                                          dish_liked  \\\n",
       "0  Pasta, Lunch Buffet, Masala Papad, Paneer Laja...   \n",
       "1  Momos, Lunch Buffet, Chocolate Nirvana, Thai G...   \n",
       "2  Churros, Cannelloni, Minestrone Soup, Hot Choc...   \n",
       "3                                        Masala Dosa   \n",
       "4                                Panipuri, Gol Gappe   \n",
       "\n",
       "                         cuisines approx_cost(for two people)  \\\n",
       "0  North Indian, Mughlai, Chinese                         800   \n",
       "1     Chinese, North Indian, Thai                         800   \n",
       "2          Cafe, Mexican, Italian                         800   \n",
       "3      South Indian, North Indian                         300   \n",
       "4        North Indian, Rajasthani                         600   \n",
       "\n",
       "                                        reviews_list menu_item  \\\n",
       "0  [('Rated 4.0', 'RATED\\n  A beautiful place to ...        []   \n",
       "1  [('Rated 4.0', 'RATED\\n  Had been here for din...        []   \n",
       "2  [('Rated 3.0', \"RATED\\n  Ambience is not that ...        []   \n",
       "3  [('Rated 4.0', \"RATED\\n  Great food and proper...        []   \n",
       "4  [('Rated 4.0', 'RATED\\n  Very good restaurant ...        []   \n",
       "\n",
       "  listed_in(type) listed_in(city)  \n",
       "0          Buffet    Banashankari  \n",
       "1          Buffet    Banashankari  \n",
       "2          Buffet    Banashankari  \n",
       "3          Buffet    Banashankari  \n",
       "4          Buffet    Banashankari  "
      ]
     },
     "execution_count": 32,
     "metadata": {},
     "output_type": "execute_result"
    }
   ],
   "source": [
    "#reading the data set\n",
    "data_df = pd.read_csv(\"data/zomato.csv\")\n",
    "data_df.head()"
   ]
  },
  {
   "cell_type": "code",
   "execution_count": 6,
   "metadata": {},
   "outputs": [
    {
     "data": {
      "text/html": [
       "<div>\n",
       "<style scoped>\n",
       "    .dataframe tbody tr th:only-of-type {\n",
       "        vertical-align: middle;\n",
       "    }\n",
       "\n",
       "    .dataframe tbody tr th {\n",
       "        vertical-align: top;\n",
       "    }\n",
       "\n",
       "    .dataframe thead th {\n",
       "        text-align: right;\n",
       "    }\n",
       "</style>\n",
       "<table border=\"1\" class=\"dataframe\">\n",
       "  <thead>\n",
       "    <tr style=\"text-align: right;\">\n",
       "      <th></th>\n",
       "      <th>votes</th>\n",
       "    </tr>\n",
       "  </thead>\n",
       "  <tbody>\n",
       "    <tr>\n",
       "      <th>count</th>\n",
       "      <td>51717.000000</td>\n",
       "    </tr>\n",
       "    <tr>\n",
       "      <th>mean</th>\n",
       "      <td>283.697527</td>\n",
       "    </tr>\n",
       "    <tr>\n",
       "      <th>std</th>\n",
       "      <td>803.838853</td>\n",
       "    </tr>\n",
       "    <tr>\n",
       "      <th>min</th>\n",
       "      <td>0.000000</td>\n",
       "    </tr>\n",
       "    <tr>\n",
       "      <th>25%</th>\n",
       "      <td>7.000000</td>\n",
       "    </tr>\n",
       "    <tr>\n",
       "      <th>50%</th>\n",
       "      <td>41.000000</td>\n",
       "    </tr>\n",
       "    <tr>\n",
       "      <th>75%</th>\n",
       "      <td>198.000000</td>\n",
       "    </tr>\n",
       "    <tr>\n",
       "      <th>max</th>\n",
       "      <td>16832.000000</td>\n",
       "    </tr>\n",
       "  </tbody>\n",
       "</table>\n",
       "</div>"
      ],
      "text/plain": [
       "              votes\n",
       "count  51717.000000\n",
       "mean     283.697527\n",
       "std      803.838853\n",
       "min        0.000000\n",
       "25%        7.000000\n",
       "50%       41.000000\n",
       "75%      198.000000\n",
       "max    16832.000000"
      ]
     },
     "execution_count": 6,
     "metadata": {},
     "output_type": "execute_result"
    }
   ],
   "source": [
    "data_df.describe()"
   ]
  },
  {
   "cell_type": "markdown",
   "metadata": {},
   "source": [
    "There are restaurents with no reviews, and the maximum number of review votes for restaurent are 16K."
   ]
  },
  {
   "cell_type": "markdown",
   "metadata": {},
   "source": [
    "Checking for null values in dataframe"
   ]
  },
  {
   "cell_type": "code",
   "execution_count": 7,
   "metadata": {},
   "outputs": [
    {
     "data": {
      "text/plain": [
       "url                                0\n",
       "address                            0\n",
       "name                               0\n",
       "online_order                       0\n",
       "book_table                         0\n",
       "rate                            7775\n",
       "votes                              0\n",
       "phone                           1208\n",
       "location                          21\n",
       "rest_type                        227\n",
       "dish_liked                     28078\n",
       "cuisines                          45\n",
       "approx_cost(for two people)      346\n",
       "reviews_list                       0\n",
       "menu_item                          0\n",
       "listed_in(type)                    0\n",
       "listed_in(city)                    0\n",
       "dtype: int64"
      ]
     },
     "execution_count": 7,
     "metadata": {},
     "output_type": "execute_result"
    }
   ],
   "source": [
    "data_df.isna().sum()"
   ]
  },
  {
   "cell_type": "markdown",
   "metadata": {},
   "source": [
    "Checking the number of distinct values in each column"
   ]
  },
  {
   "cell_type": "code",
   "execution_count": 27,
   "metadata": {},
   "outputs": [
    {
     "name": "stdout",
     "output_type": "stream",
     "text": [
      "url               51717\n",
      "address           11495\n",
      "name               8792\n",
      "online_order          2\n",
      "book_table            2\n",
      "rate                 32\n",
      "votes              2328\n",
      "phone             14926\n",
      "location             93\n",
      "rest_type            93\n",
      "dish_liked         5271\n",
      "cuisines           2723\n",
      "cost_for_two         70\n",
      "reviews_list      22513\n",
      "menu_item          9098\n",
      "listed_as             7\n",
      "listed_in_city       30\n",
      "dtype: int64\n"
     ]
    }
   ],
   "source": [
    "print(data_df.nunique())"
   ]
  },
  {
   "cell_type": "markdown",
   "metadata": {},
   "source": [
    "Checking data in rate column, the column needs clean up"
   ]
  },
  {
   "cell_type": "code",
   "execution_count": 11,
   "metadata": {},
   "outputs": [
    {
     "data": {
      "text/plain": [
       "array(['4.1/5', '3.8/5', '3.7/5', '3.6/5', '4.6/5', '4.0/5', '4.2/5',\n",
       "       '3.9/5', '3.1/5', '3.0/5', '3.2/5', '3.3/5', '2.8/5', '4.4/5',\n",
       "       '4.3/5', 'NEW', '2.9/5', '3.5/5', nan, '2.6/5', '3.8 /5', '3.4/5',\n",
       "       '4.5/5', '2.5/5', '2.7/5', '4.7/5', '2.4/5', '2.2/5', '2.3/5',\n",
       "       '3.4 /5', '-', '3.6 /5', '4.8/5', '3.9 /5', '4.2 /5', '4.0 /5',\n",
       "       '4.1 /5', '3.7 /5', '3.1 /5', '2.9 /5', '3.3 /5', '2.8 /5',\n",
       "       '3.5 /5', '2.7 /5', '2.5 /5', '3.2 /5', '2.6 /5', '4.5 /5',\n",
       "       '4.3 /5', '4.4 /5', '4.9/5', '2.1/5', '2.0/5', '1.8/5', '4.6 /5',\n",
       "       '4.9 /5', '3.0 /5', '4.8 /5', '2.3 /5', '4.7 /5', '2.4 /5',\n",
       "       '2.1 /5', '2.2 /5', '2.0 /5', '1.8 /5'], dtype=object)"
      ]
     },
     "execution_count": 11,
     "metadata": {},
     "output_type": "execute_result"
    }
   ],
   "source": [
    "data_df['rate'].unique()"
   ]
  },
  {
   "cell_type": "markdown",
   "metadata": {},
   "source": [
    "Replacing NEW, '-' and NAN with empty values in rate column.\n",
    "Remove /5 from the rate column.\n",
    "Remove spaces from the rate column."
   ]
  },
  {
   "cell_type": "code",
   "execution_count": 33,
   "metadata": {},
   "outputs": [
    {
     "data": {
      "text/plain": [
       "array(['4.1', '3.8', '3.7', '3.6', '4.6', '4.0', '4.2', '3.9', '3.1',\n",
       "       '3.0', '3.2', '3.3', '2.8', '4.4', '4.3', 'nan', '2.9', '3.5',\n",
       "       '2.6', '3.4', '4.5', '2.5', '2.7', '4.7', '2.4', '2.2', '2.3',\n",
       "       '4.8', '4.9', '2.1', '2.0', '1.8'], dtype=object)"
      ]
     },
     "execution_count": 33,
     "metadata": {},
     "output_type": "execute_result"
    }
   ],
   "source": [
    "data_df['rate'].replace('NEW', np.nan, regex=True, inplace=True)\n",
    "data_df['rate'].replace('-', np.nan, regex=True, inplace=True)\n",
    "data_df['rate'] = data_df['rate'].apply(lambda x: str(x).split('/')[0])\n",
    "data_df['rate'] = data_df['rate'].str.strip()\n",
    "data_df['rate'].unique()"
   ]
  },
  {
   "cell_type": "markdown",
   "metadata": {},
   "source": [
    "Renaming columns for easy access"
   ]
  },
  {
   "cell_type": "code",
   "execution_count": 44,
   "metadata": {},
   "outputs": [],
   "source": [
    "#renaming for easier access\n",
    "data_df.rename(columns = {\"listed_in(type)\" : \"listed_as\"}, inplace=True)\n",
    "data_df.rename(columns={'approx_cost(for two people)': 'cost_for_two'}, inplace=True)\n",
    "data_df.rename(columns={'listed_in(city)': 'listed_in_city'}, inplace=True)"
   ]
  },
  {
   "cell_type": "code",
   "execution_count": 22,
   "metadata": {},
   "outputs": [
    {
     "data": {
      "text/plain": [
       "array(['Banashankari', 'Basavanagudi', 'Mysore Road', 'Jayanagar',\n",
       "       'Kumaraswamy Layout', 'Rajarajeshwari Nagar', 'Vijay Nagar',\n",
       "       'Uttarahalli', 'JP Nagar', 'South Bangalore', 'City Market',\n",
       "       'Nagarbhavi', 'Bannerghatta Road', 'BTM', 'Kanakapura Road',\n",
       "       'Bommanahalli', 'CV Raman Nagar', 'Electronic City', 'HSR',\n",
       "       'Marathahalli', 'Sarjapur Road', 'Wilson Garden', 'Shanti Nagar',\n",
       "       'Koramangala 5th Block', 'Koramangala 8th Block', 'Richmond Road',\n",
       "       'Koramangala 7th Block', 'Jalahalli', 'Koramangala 4th Block',\n",
       "       'Bellandur', 'Whitefield', 'East Bangalore', 'Old Airport Road',\n",
       "       'Indiranagar', 'Koramangala 1st Block', 'Frazer Town', 'RT Nagar',\n",
       "       'MG Road', 'Brigade Road', 'Lavelle Road', 'Church Street',\n",
       "       'Ulsoor', 'Residency Road', 'Shivajinagar', 'Infantry Road',\n",
       "       'St. Marks Road', 'Cunningham Road', 'Race Course Road',\n",
       "       'Commercial Street', 'Vasanth Nagar', 'HBR Layout', 'Domlur',\n",
       "       'Ejipura', 'Jeevan Bhima Nagar', 'Old Madras Road', 'Malleshwaram',\n",
       "       'Seshadripuram', 'Kammanahalli', 'Koramangala 6th Block',\n",
       "       'Majestic', 'Langford Town', 'Central Bangalore', 'Sanjay Nagar',\n",
       "       'Brookefield', 'ITPL Main Road, Whitefield',\n",
       "       'Varthur Main Road, Whitefield', 'KR Puram',\n",
       "       'Koramangala 2nd Block', 'Koramangala 3rd Block', 'Koramangala',\n",
       "       'Hosur Road', 'Rajajinagar', 'Banaswadi', 'North Bangalore',\n",
       "       'Nagawara', 'Hennur', 'Kalyan Nagar', 'New BEL Road', 'Jakkur',\n",
       "       'Rammurthy Nagar', 'Thippasandra', 'Kaggadasapura', 'Hebbal',\n",
       "       'Kengeri', 'Sankey Road', 'Sadashiv Nagar', 'Basaveshwara Nagar',\n",
       "       'Yeshwantpur', 'West Bangalore', 'Magadi Road', 'Yelahanka',\n",
       "       'Sahakara Nagar', 'Peenya'], dtype=object)"
      ]
     },
     "execution_count": 22,
     "metadata": {},
     "output_type": "execute_result"
    }
   ],
   "source": [
    "data_df['location'].unique()"
   ]
  },
  {
   "cell_type": "code",
   "execution_count": 23,
   "metadata": {},
   "outputs": [
    {
     "data": {
      "text/plain": [
       "array(['Casual Dining', 'Cafe, Casual Dining', 'Quick Bites',\n",
       "       'Casual Dining, Cafe', 'Cafe', 'Quick Bites, Cafe',\n",
       "       'Cafe, Quick Bites', 'Delivery', 'Mess', 'Dessert Parlor',\n",
       "       'Bakery, Dessert Parlor', 'Pub', 'Bakery', 'Takeaway, Delivery',\n",
       "       'Fine Dining', 'Beverage Shop', 'Sweet Shop', 'Bar',\n",
       "       'Beverage Shop, Quick Bites', 'Confectionery',\n",
       "       'Quick Bites, Beverage Shop', 'Dessert Parlor, Sweet Shop',\n",
       "       'Bakery, Quick Bites', 'Sweet Shop, Quick Bites', 'Kiosk',\n",
       "       'Food Truck', 'Quick Bites, Dessert Parlor',\n",
       "       'Beverage Shop, Dessert Parlor', 'Takeaway', 'Pub, Casual Dining',\n",
       "       'Casual Dining, Bar', 'Dessert Parlor, Beverage Shop',\n",
       "       'Quick Bites, Bakery', 'Dessert Parlor, Quick Bites',\n",
       "       'Microbrewery, Casual Dining', 'Lounge', 'Bar, Casual Dining',\n",
       "       'Food Court', 'Cafe, Bakery', nan, 'Dhaba',\n",
       "       'Quick Bites, Sweet Shop', 'Microbrewery',\n",
       "       'Food Court, Quick Bites', 'Pub, Bar', 'Casual Dining, Pub',\n",
       "       'Lounge, Bar', 'Food Court, Dessert Parlor',\n",
       "       'Casual Dining, Sweet Shop', 'Food Court, Casual Dining',\n",
       "       'Casual Dining, Microbrewery', 'Sweet Shop, Dessert Parlor',\n",
       "       'Bakery, Beverage Shop', 'Lounge, Casual Dining',\n",
       "       'Cafe, Food Court', 'Beverage Shop, Cafe', 'Cafe, Dessert Parlor',\n",
       "       'Dessert Parlor, Cafe', 'Dessert Parlor, Bakery',\n",
       "       'Microbrewery, Pub', 'Bakery, Food Court', 'Club',\n",
       "       'Quick Bites, Food Court', 'Bakery, Cafe', 'Bar, Cafe',\n",
       "       'Pub, Cafe', 'Casual Dining, Irani Cafee', 'Fine Dining, Lounge',\n",
       "       'Bar, Quick Bites', 'Bakery, Kiosk', 'Pub, Microbrewery',\n",
       "       'Microbrewery, Lounge', 'Fine Dining, Microbrewery',\n",
       "       'Fine Dining, Bar', 'Mess, Quick Bites', 'Dessert Parlor, Kiosk',\n",
       "       'Bhojanalya', 'Casual Dining, Quick Bites', 'Pop Up', 'Cafe, Bar',\n",
       "       'Casual Dining, Lounge', 'Bakery, Sweet Shop', 'Microbrewery, Bar',\n",
       "       'Cafe, Lounge', 'Bar, Pub', 'Lounge, Cafe', 'Club, Casual Dining',\n",
       "       'Quick Bites, Mess', 'Quick Bites, Meat Shop',\n",
       "       'Quick Bites, Kiosk', 'Lounge, Microbrewery',\n",
       "       'Food Court, Beverage Shop', 'Dessert Parlor, Food Court',\n",
       "       'Bar, Lounge'], dtype=object)"
      ]
     },
     "execution_count": 23,
     "metadata": {},
     "output_type": "execute_result"
    }
   ],
   "source": [
    "data_df['rest_type'].unique()"
   ]
  },
  {
   "cell_type": "markdown",
   "metadata": {},
   "source": [
    "Replace Nulls in location and rest_type columns with listed city and listed type respectively. "
   ]
  },
  {
   "cell_type": "code",
   "execution_count": 28,
   "metadata": {},
   "outputs": [],
   "source": [
    "data_df.location.fillna(data_df.listed_in_city, inplace=True)\n",
    "data_df.rest_type.fillna(data_df.listed_as, inplace=True)"
   ]
  },
  {
   "cell_type": "code",
   "execution_count": 24,
   "metadata": {},
   "outputs": [
    {
     "data": {
      "text/plain": [
       "array(['Buffet', 'Cafes', 'Delivery', 'Desserts', 'Dine-out',\n",
       "       'Drinks & nightlife', 'Pubs and bars'], dtype=object)"
      ]
     },
     "execution_count": 24,
     "metadata": {},
     "output_type": "execute_result"
    }
   ],
   "source": [
    "data_df['listed_as'].unique()"
   ]
  },
  {
   "cell_type": "code",
   "execution_count": 26,
   "metadata": {},
   "outputs": [
    {
     "data": {
      "text/plain": [
       "array(['North Indian, Mughlai, Chinese', 'Chinese, North Indian, Thai',\n",
       "       'Cafe, Mexican, Italian', ...,\n",
       "       'North Indian, Street Food, Biryani', 'Chinese, Mughlai',\n",
       "       'North Indian, Chinese, Arabian, Momos'], dtype=object)"
      ]
     },
     "execution_count": 26,
     "metadata": {},
     "output_type": "execute_result"
    }
   ],
   "source": [
    "data_df['cuisines'].unique()"
   ]
  },
  {
   "cell_type": "code",
   "execution_count": 45,
   "metadata": {},
   "outputs": [
    {
     "data": {
      "text/plain": [
       "array(['800', '300', '600', '700', '550', '500', '450', '650', '400',\n",
       "       '900', '200', '750', '150', '850', '100', '1,200', '350', '250',\n",
       "       '950', '1,000', '1,500', '1,300', '199', '80', '1,100', '160',\n",
       "       '1,600', '230', '130', '50', '190', '1,700', nan, '1,400', '180',\n",
       "       '1,350', '2,200', '2,000', '1,800', '1,900', '330', '2,500',\n",
       "       '2,100', '3,000', '2,800', '3,400', '40', '1,250', '3,500',\n",
       "       '4,000', '2,400', '2,600', '120', '1,450', '469', '70', '3,200',\n",
       "       '60', '560', '240', '360', '6,000', '1,050', '2,300', '4,100',\n",
       "       '5,000', '3,700', '1,650', '2,700', '4,500', '140'], dtype=object)"
      ]
     },
     "execution_count": 45,
     "metadata": {},
     "output_type": "execute_result"
    }
   ],
   "source": [
    "data_df['cost_for_two'].unique()"
   ]
  },
  {
   "cell_type": "markdown",
   "metadata": {},
   "source": [
    "Checking the distribution of ratings"
   ]
  },
  {
   "cell_type": "code",
   "execution_count": 40,
   "metadata": {},
   "outputs": [
    {
     "name": "stdout",
     "output_type": "stream",
     "text": [
      "3.700448817952717\n"
     ]
    },
    {
     "data": {
      "image/png": "[encoded data removed]",
      "text/plain": [
       "<Figure size 432x288 with 1 Axes>"
      ]
     },
     "metadata": {
      "needs_background": "light"
     },
     "output_type": "display_data"
    }
   ],
   "source": [
    "data_df['rate'] = data_df['rate'].apply(lambda r: float(r))\n",
    "plt.hist(data_df['rate'], color = 'skyblue', edgecolor = 'black',bins = int(100/5))\n",
    "plt.axvline(x = data_df['rate'].mean(),ls='--',color='red')\n",
    "plt.title('Distribution of ratings',weight='bold')\n",
    "plt.xlabel('Rating')\n",
    "plt.ylabel('No of Restaurants')\n",
    "print(data_df['rate'].mean())\n",
    "plt.show()"
   ]
  },
  {
   "cell_type": "code",
   "execution_count": 47,
   "metadata": {},
   "outputs": [
    {
     "data": {
      "text/plain": [
       "url                object\n",
       "address            object\n",
       "name               object\n",
       "online_order        int64\n",
       "book_table          int64\n",
       "rate              float64\n",
       "votes               int64\n",
       "phone              object\n",
       "location           object\n",
       "rest_type          object\n",
       "dish_liked         object\n",
       "cuisines           object\n",
       "cost_for_two      float64\n",
       "reviews_list       object\n",
       "menu_item          object\n",
       "listed_as          object\n",
       "listed_in_city     object\n",
       "dtype: object"
      ]
     },
     "execution_count": 47,
     "metadata": {},
     "output_type": "execute_result"
    }
   ],
   "source": [
    "data_df.online_order.replace(('Yes','No'),(1, 0),inplace=True)\n",
    "data_df.book_table.replace(('Yes','No'),(1, 0),inplace=True)\n",
    "data_df['cost_for_two'] = data_df['cost_for_two'].apply(lambda x: str(x).replace(',',''))\n",
    "data_df['cost_for_two'] = data_df['cost_for_two'].apply(lambda r: float(r))\n",
    "data_df.dtypes"
   ]
  },
  {
   "cell_type": "code",
   "execution_count": 53,
   "metadata": {},
   "outputs": [
    {
     "data": {
      "image/png": "[encoded data removed]",
      "text/plain": [
       "<Figure size 720x432 with 2 Axes>"
      ]
     },
     "metadata": {
      "needs_background": "light"
     },
     "output_type": "display_data"
    }
   ],
   "source": [
    "heat_corr = data_df.corr()\n",
    "plt.figure(figsize=(10, 6))\n",
    "corr_matrix = sns.heatmap(heat_corr, annot=True)\n",
    "corr_matrix.set_yticklabels(corr_matrix.get_yticklabels(), rotation=360)\n",
    "\n",
    "plt.title(\"Correlation Matrix\")\n",
    "plt.show()"
   ]
  },
  {
   "cell_type": "code",
   "execution_count": null,
   "metadata": {},
   "outputs": [],
   "source": []
  }
 ],
 "metadata": {
  "kernelspec": {
   "display_name": "Python 3",
   "language": "python",
   "name": "python3"
  },
  "language_info": {
   "codemirror_mode": {
    "name": "ipython",
    "version": 3
   },
   "file_extension": ".py",
   "mimetype": "text/x-python",
   "name": "python",
   "nbconvert_exporter": "python",
   "pygments_lexer": "ipython3",
   "version": "3.8.5"
  }
 },
 "nbformat": 4,
 "nbformat_minor": 4
}
