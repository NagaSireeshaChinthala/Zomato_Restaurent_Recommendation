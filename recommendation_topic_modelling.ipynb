{
 "cells": [
  {
   "cell_type": "code",
   "execution_count": 1,
   "metadata": {},
   "outputs": [],
   "source": [
    "import pandas as pd\n",
    "#reading the data set\n",
    "df = pd.read_csv(\"data/data_topic.csv\")"
   ]
  },
  {
   "cell_type": "code",
   "execution_count": 2,
   "metadata": {},
   "outputs": [],
   "source": [
    "df['dish_reviewed'] = df['dish_reviewed'].fillna('')\n",
    "df['cuisines'] = df['cuisines'].fillna('')\n",
    "df['menu_item'] = df['menu_item'].fillna('')"
   ]
  },
  {
   "cell_type": "code",
   "execution_count": 3,
   "metadata": {},
   "outputs": [],
   "source": [
    "def get_recommendations_test(name):\n",
    "    recommended = []\n",
    "    top10_list = []\n",
    "    \n",
    "    name = name.lower()\n",
    "    #df['name'] = df['name'].str.lower()\n",
    "    topic_num = df[df['name'].str.lower() == name].Topic.values\n",
    "    doc_num = df[df['name'].str.lower() == name].Doc.values    \n",
    "    output_df = df[df['Topic']==topic_num[0]].sort_values('Probability', ascending=False).reset_index(drop=True)\n",
    "\n",
    "    index = output_df[output_df['Doc']==doc_num[0]].index[0]\n",
    "    \n",
    "    top10_list += list(output_df.iloc[index-5:index].index)\n",
    "    top10_list += list(output_df.iloc[index+1:index+6].index)\n",
    "    \n",
    "    #output_df['name'] = output_df['name'].str.name()\n",
    "    \n",
    "    for each in top10_list:\n",
    "        recommended.append(output_df.iloc[each]['name'])\n",
    "        \n",
    "    return recommended"
   ]
  },
  {
   "cell_type": "code",
   "execution_count": 4,
   "metadata": {},
   "outputs": [
    {
     "data": {
      "text/plain": [
       "['Southease',\n",
       " 'Blend - Royal Orchid Suites',\n",
       " 'Mangalore pearl - Seafood Restaurant',\n",
       " 'Shanghai Court',\n",
       " 'RS Shiv Sagar',\n",
       " 'New Aroma',\n",
       " 'Punjab Grill',\n",
       " 'The Kabab Studio - Goldfinch Hotel',\n",
       " 'Rustic Stove',\n",
       " 'Orzuv']"
      ]
     },
     "execution_count": 4,
     "metadata": {},
     "output_type": "execute_result"
    }
   ],
   "source": [
    "get_recommendations_test('Spice Elephant')"
   ]
  },
  {
   "cell_type": "code",
   "execution_count": 5,
   "metadata": {},
   "outputs": [],
   "source": [
    "def get_recommendations(name):\n",
    "    from sklearn.metrics.pairwise import linear_kernel\n",
    "    from sklearn.feature_extraction.text import TfidfVectorizer\n",
    "    import pandas as pd\n",
    "\n",
    "    recommended = []\n",
    "    top30_list = []\n",
    "    top30 = []\n",
    "    name = name.lower()\n",
    "    topic_num = df[df['name'].str.lower() == name].Topic.values\n",
    "    doc_num = df[df['name'].str.lower() == name].Doc.values    \n",
    "    output_df = df[df['Topic']==topic_num[0]].sort_values('Probability', ascending=False).reset_index(drop=True)\n",
    "    \n",
    "    \n",
    "    cols = ['name','location', 'rest_type', 'rest_type', 'rest_type', 'cuisines', 'dish_reviewed', 'menu_item', 'online', 'table_booking','listed_as', 'listed_in_city']\n",
    "    \n",
    "    output_df['combined'] = output_df[cols].apply(lambda row: ' '.join(row.values.astype(str)), axis=1)\n",
    "    \n",
    "    # Creating tf-idf matrix\n",
    "    tfidf = TfidfVectorizer(analyzer='word', ngram_range=(1, 2), min_df=0, stop_words='english')\n",
    "    tfidf_matrix = tfidf.fit_transform(output_df['combined'])\n",
    "    \n",
    "    cosine_similarities = linear_kernel(tfidf_matrix, tfidf_matrix)\n",
    "    \n",
    "    scores_df = pd.DataFrame(cosine_similarities)\n",
    "\n",
    "    index = output_df[output_df['Doc']==doc_num[0]].index[0]\n",
    "    \n",
    "    top30_list = list(scores_df.iloc[index].sort_values(ascending = False).iloc[1:31].index)\n",
    "    \n",
    "    for each in top30_list:\n",
    "        if output_df.iloc[each]['name'].lower() != name:\n",
    "            top30.append(output_df.iloc[each]['name'])\n",
    "        \n",
    "    a = [x.lower() for x in top30]\n",
    "\n",
    "    filtered = output_df[output_df['name'].str.lower().isin(a)]\n",
    "    filtered_sorted = filtered.sort_values(\"weighted_rating\",ascending=False)\n",
    "    \n",
    "    for i in filtered_sorted['name']:\n",
    "        if recommended.count(i) <= 0:\n",
    "            recommended.append(i)\n",
    "        if len(recommended) == 10:\n",
    "            break\n",
    "\n",
    "    return recommended"
   ]
  },
  {
   "cell_type": "code",
   "execution_count": 6,
   "metadata": {},
   "outputs": [
    {
     "data": {
      "text/plain": [
       "['Roots',\n",
       " 'Punjab Bistro',\n",
       " 'The Hidden Home',\n",
       " 'Mango Tree- The Beer Garden',\n",
       " 'Kaifu',\n",
       " 'Gufha - The President Hotel',\n",
       " 'Shanghai Court',\n",
       " 'Zaica Dine & Wine',\n",
       " 'Peacock',\n",
       " 'Golden Rice']"
      ]
     },
     "execution_count": 6,
     "metadata": {},
     "output_type": "execute_result"
    }
   ],
   "source": [
    "get_recommendations('Spice Elephant')"
   ]
  },
  {
   "cell_type": "code",
   "execution_count": 7,
   "metadata": {},
   "outputs": [
    {
     "data": {
      "text/plain": [
       "['Sri Udupi Park',\n",
       " 'Bengaluru Coffee House',\n",
       " 'Gokul Kuteera',\n",
       " 'Shanthi Sagar',\n",
       " 'Sagar Fast Food',\n",
       " 'Sri Lakshmi Vaibhav',\n",
       " 'The Krishna Grand Xpress',\n",
       " 'Hotel Chandrika',\n",
       " 'Udupi Aatithya',\n",
       " 'Srinidhi Sagar']"
      ]
     },
     "execution_count": 7,
     "metadata": {},
     "output_type": "execute_result"
    }
   ],
   "source": [
    "get_recommendations('Pai Vihar')"
   ]
  },
  {
   "cell_type": "code",
   "execution_count": 8,
   "metadata": {},
   "outputs": [
    {
     "data": {
      "text/plain": [
       "['Citrus Cafe - Lemon Tree Hotel',\n",
       " 'Wild Thyme Restaurant',\n",
       " 'Kava Kitchen & Bar - Fairfield by Marriott',\n",
       " 'Spice Darbar',\n",
       " 'Tayo Restaurant',\n",
       " 'Sangam Restaurant',\n",
       " 'Mango Greens',\n",
       " 'Embers - Nandhana Grand Hotel',\n",
       " 'Cafe Monarch Luxur',\n",
       " 'The Lounge - The Chancery Pavilion']"
      ]
     },
     "execution_count": 8,
     "metadata": {},
     "output_type": "execute_result"
    }
   ],
   "source": [
    "get_recommendations('Rosewood International Hotel - Bar & Restaurant')"
   ]
  },
  {
   "cell_type": "code",
   "execution_count": 9,
   "metadata": {},
   "outputs": [
    {
     "data": {
      "text/plain": [
       "['Szechuan Dragon',\n",
       " 'Delicacy',\n",
       " \"Chung's Chinese Corner\",\n",
       " 'New Peking',\n",
       " 'Chung Wah',\n",
       " 'Beijing Bites',\n",
       " 'Mountain Spice',\n",
       " 'Red Lantern',\n",
       " 'Anu Momos Chinese Kitchen',\n",
       " \"Kenny's Restaurant\"]"
      ]
     },
     "execution_count": 9,
     "metadata": {},
     "output_type": "execute_result"
    }
   ],
   "source": [
    "get_recommendations('Fujian Express')"
   ]
  },
  {
   "cell_type": "code",
   "execution_count": 10,
   "metadata": {},
   "outputs": [
    {
     "data": {
      "text/plain": [
       "['Truffles',\n",
       " 'Onesta',\n",
       " 'Cafe Max',\n",
       " '@Italy',\n",
       " 'Cafe Cassia& Deli',\n",
       " 'Burp',\n",
       " 'THE BEL ST.',\n",
       " 'Crisp Cafe',\n",
       " 'Cafe Mondo',\n",
       " 'Cafe Mamma Mia']"
      ]
     },
     "execution_count": 10,
     "metadata": {},
     "output_type": "execute_result"
    }
   ],
   "source": [
    "get_recommendations('San Churro Cafe')"
   ]
  },
  {
   "cell_type": "code",
   "execution_count": 11,
   "metadata": {},
   "outputs": [
    {
     "data": {
      "text/plain": [
       "['Starbucks',\n",
       " \"Domino's Pizza\",\n",
       " 'Ovenstory Pizza',\n",
       " 'Pizza Hut',\n",
       " 'Cafe Coffee Day',\n",
       " 'De Oxford Cafe',\n",
       " 'The Studio Cafe',\n",
       " 'Cafe Hush',\n",
       " 'Cuppa',\n",
       " '5th Main Cafe']"
      ]
     },
     "execution_count": 11,
     "metadata": {},
     "output_type": "execute_result"
    }
   ],
   "source": [
    "get_recommendations('Woodee Pizza')"
   ]
  },
  {
   "cell_type": "code",
   "execution_count": 12,
   "metadata": {},
   "outputs": [
    {
     "data": {
      "text/plain": [
       "[\"Mani's Dum Biryani\",\n",
       " \"Paul's Dum Biryani\",\n",
       " 'Chef All Nite',\n",
       " 'The Good Bowl',\n",
       " 'Aramane Donne Biryani',\n",
       " 'Biryani Treats',\n",
       " 'Fat Chef Biryani Wale',\n",
       " 'Ruchi Maayaka',\n",
       " 'LSD Cafe']"
      ]
     },
     "execution_count": 12,
     "metadata": {},
     "output_type": "execute_result"
    }
   ],
   "source": [
    "get_recommendations('Behrouz Biryani')"
   ]
  },
  {
   "cell_type": "code",
   "execution_count": 13,
   "metadata": {},
   "outputs": [
    {
     "data": {
      "text/plain": [
       "[\"AB's - Absolute Barbecues\",\n",
       " 'Flechazo',\n",
       " 'Cafe Noir',\n",
       " 'Citrus Cafe - Lemon Tree Hotel',\n",
       " 'Estia - Aloft Hotel',\n",
       " 'Mango Greens',\n",
       " 'Ozaa',\n",
       " 'The Lounge - The Chancery Pavilion',\n",
       " 'Zodiac',\n",
       " \"Pepper's - The Palladium\"]"
      ]
     },
     "execution_count": 13,
     "metadata": {},
     "output_type": "execute_result"
    }
   ],
   "source": [
    "get_recommendations('Barbeque Nation')"
   ]
  }
 ],
 "metadata": {
  "kernelspec": {
   "display_name": "Python 3",
   "language": "python",
   "name": "python3"
  },
  "language_info": {
   "codemirror_mode": {
    "name": "ipython",
    "version": 3
   },
   "file_extension": ".py",
   "mimetype": "text/x-python",
   "name": "python",
   "nbconvert_exporter": "python",
   "pygments_lexer": "ipython3",
   "version": "3.8.5"
  }
 },
 "nbformat": 4,
 "nbformat_minor": 4
}
